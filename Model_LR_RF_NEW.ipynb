{
 "cells": [
  {
   "cell_type": "code",
   "execution_count": 16,
   "id": "74f21f74",
   "metadata": {},
   "outputs": [
    {
     "name": "stdout",
     "output_type": "stream",
     "text": [
      "   GenHlth  HighBP  Age  HighChol  DiffWalk  Income  HeartDiseaseorAttack  \\\n",
      "0        1       0    3         0         0       5                     0   \n",
      "1        1       0    3         0         0       5                     0   \n",
      "2        1       0    3         0         0       5                     0   \n",
      "3        1       0    3         0         0       5                     0   \n",
      "4        1       0    3         0         0       5                     0   \n",
      "\n",
      "   Diabetes_012  BMI  PhysHlth  \n",
      "0             0   26         0  \n",
      "1             0   26         0  \n",
      "2             0   23        15  \n",
      "3             0   30         0  \n",
      "4             0   19         0  \n",
      "   Diabetes_012   BMI  PhysHlth  Membership\n",
      "0             0  23.0       0.0           4\n",
      "1             0  25.0       0.0           4\n",
      "2             0  25.0       0.0          13\n",
      "3             0  32.0       0.0          14\n",
      "4             0  31.0      10.0          14\n"
     ]
    }
   ],
   "source": [
    "import pandas as pd\n",
    "from sklearn.model_selection import train_test_split, StratifiedKFold\n",
    "from sklearn.linear_model import LogisticRegression\n",
    "from sklearn.metrics import accuracy_score, precision_score, recall_score, f1_score, balanced_accuracy_score, matthews_corrcoef\n",
    "from sklearn.preprocessing import StandardScaler\n",
    "from sklearn.impute import SimpleImputer\n",
    "\n",
    "balanced_df = pd.read_csv('/Users/apple/Desktop/Reprocessing/balanced.csv')\n",
    "random_df = pd.read_csv('/Users/apple/Desktop/Reprocessing/random.csv')\n",
    "\n",
    "print(balanced_df.head())\n",
    "print(random_df.head())"
   ]
  },
  {
   "cell_type": "code",
   "execution_count": 17,
   "id": "fdbc5fe8",
   "metadata": {},
   "outputs": [],
   "source": [
    "# Define a function to prepare data\n",
    "def prepare_data(df):\n",
    "    # Assuming 'Diabetes_012' is the target variable and it's categorical\n",
    "    X = df.drop('Diabetes_012', axis=1)\n",
    "    y = df['Diabetes_012'].astype(int)\n",
    "    \n",
    "    # Handle missing values\n",
    "    imputer = SimpleImputer(strategy='mean')\n",
    "    X_imputed = imputer.fit_transform(X)\n",
    "    \n",
    "    # Feature scaling\n",
    "    scaler = StandardScaler()\n",
    "    X_scaled = scaler.fit_transform(X_imputed)\n",
    "    \n",
    "    return X_scaled, y\n",
    "\n",
    "# Prepare data for both datasets\n",
    "X_balanced, y_balanced = prepare_data(balanced_df)\n",
    "X_random, y_random = prepare_data(random_df)"
   ]
  },
  {
   "cell_type": "code",
   "execution_count": 18,
   "id": "f995fd63",
   "metadata": {},
   "outputs": [
    {
     "name": "stdout",
     "output_type": "stream",
     "text": [
      "Metrics for Balanced Dataset: {'accuracy': 0.7943125, 'precision': 0.788731520622511, 'recall': 0.5789974619396336, 'f1': 0.5208674233170156, 'balanced_accuracy': 0.5789974619396336, 'mcc': 0.19276737934817026}\n",
      "Metrics for Random Dataset: {'accuracy': 0.865875, 'precision': 0.7037073666152903, 'recall': 0.5219156336144839, 'f1': 0.5097142895197418, 'balanced_accuracy': 0.5219156336144839, 'mcc': 0.13312532599948726}\n"
     ]
    }
   ],
   "source": [
    "import numpy as np\n",
    "\n",
    "# Define a function to perform cross-validation and calculate metrics\n",
    "def cross_validate_and_score(X, y):\n",
    "    skf = StratifiedKFold(n_splits=4)\n",
    "    metrics = {'accuracy': [], 'precision': [], 'recall': [], 'f1': [], 'balanced_accuracy': [], 'mcc': []}\n",
    "    \n",
    "    for train_index, test_index in skf.split(X, y):\n",
    "        X_train, X_test = X[train_index], X[test_index]\n",
    "        y_train, y_test = y[train_index], y[test_index]\n",
    "        \n",
    "        model = LogisticRegression(max_iter=1000)\n",
    "        model.fit(X_train, y_train)\n",
    "        y_pred = model.predict(X_test)\n",
    "        \n",
    "        # Calculate metrics for each fold\n",
    "        metrics['accuracy'].append(accuracy_score(y_test, y_pred))\n",
    "        metrics['precision'].append(precision_score(y_test, y_pred, average='macro'))\n",
    "        metrics['recall'].append(recall_score(y_test, y_pred, average='macro'))\n",
    "        metrics['f1'].append(f1_score(y_test, y_pred, average='macro'))\n",
    "        metrics['balanced_accuracy'].append(balanced_accuracy_score(y_test, y_pred))\n",
    "        metrics['mcc'].append(matthews_corrcoef(y_test, y_pred))\n",
    "    \n",
    "    # Calculate the average of each metric across all folds\n",
    "    metrics_avg = {k: np.mean(v) for k, v in metrics.items()}\n",
    "    return metrics_avg\n",
    "\n",
    "# Perform cross-validation and calculate metrics for balanced dataset\n",
    "metrics_balanced = cross_validate_and_score(X_balanced, y_balanced)\n",
    "print(\"Metrics for Balanced Dataset:\", metrics_balanced)\n",
    "\n",
    "# Perform cross-validation and calculate metrics for random dataset\n",
    "metrics_random = cross_validate_and_score(X_random, y_random)\n",
    "print(\"Metrics for Random Dataset:\", metrics_random)"
   ]
  },
  {
   "cell_type": "code",
   "execution_count": 19,
   "id": "ce1598f9",
   "metadata": {},
   "outputs": [
    {
     "name": "stdout",
     "output_type": "stream",
     "text": [
      "Fitting 4 folds for each of 20 candidates, totalling 80 fits\n",
      "Best Parameters for Balanced Dataset: {'C': 0.0001, 'penalty': 'l1'}\n",
      "Fitting 4 folds for each of 20 candidates, totalling 80 fits\n",
      "Best Parameters for Random Dataset: {'C': 0.046415888336127774, 'penalty': 'l2'}\n"
     ]
    }
   ],
   "source": [
    "from sklearn.model_selection import GridSearchCV\n",
    "\n",
    "# Define a function to perform grid search for hyperparameter tuning\n",
    "def tune_parameters(X, y):\n",
    "    model = LogisticRegression(max_iter=1000, solver='liblinear')  # liblinear works well for small to medium datasets\n",
    "    param_grid = {\n",
    "        'C': np.logspace(-4, 4, 10),  # Values for C\n",
    "        'penalty': ['l1', 'l2']  # l1 and l2 penalties\n",
    "    }\n",
    "    grid_search = GridSearchCV(model, param_grid, cv=4, scoring='accuracy', verbose=1)\n",
    "    grid_search.fit(X, y)\n",
    "    return grid_search.best_params_\n",
    "\n",
    "# Tune parameters for the balanced dataset\n",
    "best_params_balanced = tune_parameters(X_balanced, y_balanced)\n",
    "print(\"Best Parameters for Balanced Dataset:\", best_params_balanced)\n",
    "\n",
    "# Tune parameters for the random dataset\n",
    "best_params_random = tune_parameters(X_random, y_random)\n",
    "print(\"Best Parameters for Random Dataset:\", best_params_random)"
   ]
  },
  {
   "cell_type": "code",
   "execution_count": null,
   "id": "bbca7e12",
   "metadata": {},
   "outputs": [],
   "source": []
  },
  {
   "cell_type": "code",
   "execution_count": 20,
   "id": "190cfb43",
   "metadata": {},
   "outputs": [
    {
     "name": "stdout",
     "output_type": "stream",
     "text": [
      "Metrics for Balanced Dataset (Random Forest): {'accuracy': 0.5711250000000001, 'precision': 0.5879832557302749, 'recall': 0.44897158848962626, 'f1': 0.39053246480582593, 'balanced_accuracy': 0.44897158848962626, 'mcc': -0.046178381913856315}\n",
      "Metrics for Random Dataset (Random Forest): {'accuracy': 0.8520625, 'precision': 0.6200663016307717, 'recall': 0.5450984939664723, 'f1': 0.5516664773262012, 'balanced_accuracy': 0.5450984939664723, 'mcc': 0.14685959697641282}\n"
     ]
    }
   ],
   "source": [
    "from sklearn.ensemble import RandomForestClassifier\n",
    "from sklearn.metrics import accuracy_score, precision_score, recall_score, f1_score, balanced_accuracy_score, matthews_corrcoef\n",
    "from sklearn.model_selection import StratifiedKFold\n",
    "\n",
    "# Define a function to perform cross-validation and calculate metrics\n",
    "def cross_validate_and_score_rf(X, y):\n",
    "    skf = StratifiedKFold(n_splits=4)\n",
    "    metrics = {'accuracy': [], 'precision': [], 'recall': [], 'f1': [], 'balanced_accuracy': [], 'mcc': []}\n",
    "    \n",
    "    for train_index, test_index in skf.split(X, y):\n",
    "        X_train, X_test = X[train_index], X[test_index]\n",
    "        y_train, y_test = y[train_index], y[test_index]\n",
    "        \n",
    "        model = RandomForestClassifier(n_estimators=100, random_state=42)  # 100 trees in the forest\n",
    "        model.fit(X_train, y_train)\n",
    "        y_pred = model.predict(X_test)\n",
    "        \n",
    "        # Calculate metrics for each fold\n",
    "        metrics['accuracy'].append(accuracy_score(y_test, y_pred))\n",
    "        metrics['precision'].append(precision_score(y_test, y_pred, average='macro'))\n",
    "        metrics['recall'].append(recall_score(y_test, y_pred, average='macro'))\n",
    "        metrics['f1'].append(f1_score(y_test, y_pred, average='macro'))\n",
    "        metrics['balanced_accuracy'].append(balanced_accuracy_score(y_test, y_pred))\n",
    "        metrics['mcc'].append(matthews_corrcoef(y_test, y_pred))\n",
    "    \n",
    "    # Calculate the average of each metric across all folds\n",
    "    metrics_avg = {k: np.mean(v) for k, v in metrics.items()}\n",
    "    return metrics_avg\n",
    "\n",
    "# Perform cross-validation and calculate metrics for balanced dataset\n",
    "metrics_balanced_rf = cross_validate_and_score_rf(X_balanced, y_balanced)\n",
    "print(\"Metrics for Balanced Dataset (Random Forest):\", metrics_balanced_rf)\n",
    "\n",
    "# Perform cross-validation and calculate metrics for random dataset\n",
    "metrics_random_rf = cross_validate_and_score_rf(X_random, y_random)\n",
    "print(\"Metrics for Random Dataset (Random Forest):\", metrics_random_rf)"
   ]
  },
  {
   "cell_type": "code",
   "execution_count": 21,
   "id": "0418a6ab",
   "metadata": {},
   "outputs": [
    {
     "name": "stdout",
     "output_type": "stream",
     "text": [
      "Fitting 4 folds for each of 27 candidates, totalling 108 fits\n",
      "Best Parameters for Balanced Dataset (Random Forest): {'max_depth': 10, 'min_samples_split': 10, 'n_estimators': 300}\n",
      "Fitting 4 folds for each of 27 candidates, totalling 108 fits\n",
      "Best Parameters for Random Dataset (Random Forest): {'max_depth': 10, 'min_samples_split': 10, 'n_estimators': 300}\n"
     ]
    }
   ],
   "source": [
    "from sklearn.ensemble import RandomForestClassifier\n",
    "from sklearn.model_selection import GridSearchCV\n",
    "\n",
    "# Define a function to perform grid search for hyperparameter tuning\n",
    "def tune_parameters_rf(X, y):\n",
    "    model = RandomForestClassifier(random_state=42)\n",
    "    param_grid = {\n",
    "        'n_estimators': [100, 200, 300],  # Number of trees\n",
    "        'max_depth': [10, 20, None],  # Maximum depth of the trees\n",
    "        'min_samples_split': [2, 5, 10]  # Minimum number of samples required to split an internal node\n",
    "    }\n",
    "    grid_search = GridSearchCV(model, param_grid, cv=4, scoring='accuracy', verbose=1)\n",
    "    grid_search.fit(X, y)\n",
    "    return grid_search.best_params_\n",
    "\n",
    "# Tune parameters for the balanced dataset\n",
    "best_params_balanced_rf = tune_parameters_rf(X_balanced, y_balanced)\n",
    "print(\"Best Parameters for Balanced Dataset (Random Forest):\", best_params_balanced_rf)\n",
    "\n",
    "# Tune parameters for the random dataset\n",
    "best_params_random_rf = tune_parameters_rf(X_random, y_random)\n",
    "print(\"Best Parameters for Random Dataset (Random Forest):\", best_params_random_rf)"
   ]
  },
  {
   "cell_type": "code",
   "execution_count": null,
   "id": "7f7b5d8c",
   "metadata": {},
   "outputs": [],
   "source": []
  }
 ],
 "metadata": {
  "kernelspec": {
   "display_name": "Python 3 (ipykernel)",
   "language": "python",
   "name": "python3"
  },
  "language_info": {
   "codemirror_mode": {
    "name": "ipython",
    "version": 3
   },
   "file_extension": ".py",
   "mimetype": "text/x-python",
   "name": "python",
   "nbconvert_exporter": "python",
   "pygments_lexer": "ipython3",
   "version": "3.9.13"
  }
 },
 "nbformat": 4,
 "nbformat_minor": 5
}
