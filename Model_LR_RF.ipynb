{
 "cells": [
  {
   "cell_type": "code",
   "execution_count": 43,
   "id": "a2ad8f3b",
   "metadata": {},
   "outputs": [],
   "source": [
    "import pandas as pd\n",
    "from sklearn.model_selection import KFold\n",
    "from sklearn.linear_model import LogisticRegression\n",
    "from sklearn.metrics import accuracy_score"
   ]
  },
  {
   "cell_type": "code",
   "execution_count": 44,
   "id": "74704e83",
   "metadata": {},
   "outputs": [
    {
     "name": "stdout",
     "output_type": "stream",
     "text": [
      "   GenHlth  HighBP  Age  HighChol  DiffWalk  Income  HeartDiseaseorAttack  \\\n",
      "0        1       0    3         0         0       5                     0   \n",
      "1        1       0    3         0         0       5                     0   \n",
      "2        1       0    3         0         0       5                     0   \n",
      "3        1       0    3         0         0       5                     0   \n",
      "4        1       0    3         0         0       5                     0   \n",
      "\n",
      "   Diabetes_012  BMI  PhysHlth  \n",
      "0             0   26         0  \n",
      "1             0   26         0  \n",
      "2             0   23        15  \n",
      "3             0   30         0  \n",
      "4             0   19         0  \n",
      "   Diabetes_012   BMI  PhysHlth  Membership\n",
      "0             0  23.0       0.0           4\n",
      "1             0  25.0       0.0           4\n",
      "2             0  25.0       0.0          13\n",
      "3             0  32.0       0.0          14\n",
      "4             0  31.0      10.0          14\n"
     ]
    }
   ],
   "source": [
    "balanced = pd.read_csv('/Users/apple/Desktop/Reprocessing/balanced.csv')\n",
    "random = pd.read_csv('/Users/apple/Desktop/Reprocessing/random.csv')\n",
    "\n",
    "print(balanced.head())\n",
    "print(random.head())"
   ]
  },
  {
   "cell_type": "markdown",
   "id": "682377d1",
   "metadata": {},
   "source": [
    "### Logistic Regression"
   ]
  },
  {
   "cell_type": "code",
   "execution_count": 45,
   "id": "fc48dc61",
   "metadata": {},
   "outputs": [],
   "source": [
    "from sklearn.model_selection import cross_val_predict\n",
    "from sklearn.metrics import roc_auc_score, precision_score, recall_score, f1_score, matthews_corrcoef\n",
    "from sklearn.preprocessing import StandardScaler\n",
    "import numpy as np"
   ]
  },
  {
   "cell_type": "code",
   "execution_count": 50,
   "id": "9403d764",
   "metadata": {},
   "outputs": [],
   "source": [
    "def evaluate_model(data, target_name, folds=4):\n",
    "    X = data.drop(columns=[target_name])\n",
    "    y = data[target_name]\n",
    "    \n",
    "    kf = KFold(n_splits=folds, shuffle=True, random_state=42)\n",
    "    model = LogisticRegression(solver='liblinear', random_state=42)\n",
    "    \n",
    "    scaler = StandardScaler()\n",
    "    X_scaled = scaler.fit_transform(X)\n",
    "    \n",
    "    y_pred_prob = cross_val_predict(model, X_scaled, y, cv=kf, method='predict_proba')[:, 1]\n",
    "    y_pred = (y_pred_prob >= 0.5).astype(int)\n",
    "    \n",
    "    auc = roc_auc_score(y, y_pred_prob)\n",
    "    precision = precision_score(y, y_pred, average='weighted')\n",
    "    recall = recall_score(y, y_pred, average='weighted')\n",
    "    f1 = f1_score(y, y_pred, average='weighted')\n",
    "    \n",
    "    mcc = matthews_corrcoef(y, y_pred)\n",
    "\n",
    "    \n",
    "    return auc, precision, recall, f1, mcc"
   ]
  },
  {
   "cell_type": "code",
   "execution_count": 51,
   "id": "2277315c",
   "metadata": {},
   "outputs": [
    {
     "name": "stdout",
     "output_type": "stream",
     "text": [
      "Balanced dataset scores:\n",
      "AUC: 0.8279, Precision: 0.8515, Recall: 0.8794, F1: 0.8504, MCC: 0.2697\n",
      "Random dataset scores:\n",
      "AUC: 0.7794, Precision: 0.8234, Recall: 0.8654, F1: 0.8149, MCC: 0.1342\n"
     ]
    }
   ],
   "source": [
    "balanced_scores = evaluate_model(balanced, 'Diabetes_012')\n",
    "print(\"Balanced dataset scores:\")\n",
    "print(f\"AUC: {balanced_scores[0]:.4f}, Precision: {balanced_scores[1]:.4f}, Recall: {balanced_scores[2]:.4f}, F1: {balanced_scores[3]:.4f}, MCC: {balanced_scores[4]:.4f}\")\n",
    "\n",
    "random_scores = evaluate_model(random, 'Diabetes_012')\n",
    "print(\"Random dataset scores:\")\n",
    "print(f\"AUC: {random_scores[0]:.4f}, Precision: {random_scores[1]:.4f}, Recall: {random_scores[2]:.4f}, F1: {random_scores[3]:.4f}, MCC: {random_scores[4]:.4f}\")"
   ]
  },
  {
   "cell_type": "code",
   "execution_count": null,
   "id": "cdfc8041",
   "metadata": {},
   "outputs": [],
   "source": []
  },
  {
   "cell_type": "code",
   "execution_count": null,
   "id": "5bef32a9",
   "metadata": {},
   "outputs": [],
   "source": []
  },
  {
   "cell_type": "markdown",
   "id": "46e31c1d",
   "metadata": {},
   "source": [
    "### Random Forest"
   ]
  },
  {
   "cell_type": "code",
   "execution_count": 52,
   "id": "94c01775",
   "metadata": {},
   "outputs": [],
   "source": [
    "from sklearn.ensemble import RandomForestClassifier"
   ]
  },
  {
   "cell_type": "code",
   "execution_count": 53,
   "id": "746d911c",
   "metadata": {},
   "outputs": [],
   "source": [
    "def evaluate_model_rf(data, target_name, folds=4):\n",
    "    X = data.drop(columns=[target_name])\n",
    "    y = data[target_name]\n",
    "    \n",
    "    kf = KFold(n_splits=folds, shuffle=True, random_state=42)\n",
    "    model = RandomForestClassifier(n_estimators=100, random_state=42)\n",
    "    \n",
    "    scaler = StandardScaler()\n",
    "    X_scaled = scaler.fit_transform(X)\n",
    "    \n",
    "    y_pred_prob = cross_val_predict(model, X_scaled, y, cv=kf, method='predict_proba')[:, 1]\n",
    "    y_pred = (y_pred_prob >= 0.5).astype(int)\n",
    "    \n",
    "    auc = roc_auc_score(y, y_pred_prob)\n",
    "    precision = precision_score(y, y_pred, average='weighted')\n",
    "    recall = recall_score(y, y_pred, average='weighted')\n",
    "    f1 = f1_score(y, y_pred, average='weighted')\n",
    "    \n",
    "    mcc = matthews_corrcoef(y, y_pred)\n",
    "\n",
    "    \n",
    "    return auc, precision, recall, f1, mcc"
   ]
  },
  {
   "cell_type": "code",
   "execution_count": 54,
   "id": "f71d792d",
   "metadata": {},
   "outputs": [
    {
     "name": "stdout",
     "output_type": "stream",
     "text": [
      "Balanced dataset (Random Forest) scores:\n",
      "AUC: 0.7655, Precision: 0.8349, Recall: 0.8621, F1: 0.8443, MCC: 0.2697\n",
      "Random dataset (Random Forest) scores:\n",
      "AUC: 0.7189, Precision: 0.8034, Recall: 0.8498, F1: 0.8176, MCC: 0.1342\n"
     ]
    }
   ],
   "source": [
    "balanced_scores_rf = evaluate_model_rf(balanced, 'Diabetes_012')\n",
    "print(\"Balanced dataset (Random Forest) scores:\")\n",
    "print(f\"AUC: {balanced_scores_rf[0]:.4f}, Precision: {balanced_scores_rf[1]:.4f}, Recall: {balanced_scores_rf[2]:.4f}, F1: {balanced_scores_rf[3]:.4f}, MCC: {balanced_scores[4]:.4f}\")\n",
    "\n",
    "random_scores_rf = evaluate_model_rf(random, 'Diabetes_012')\n",
    "print(\"Random dataset (Random Forest) scores:\")\n",
    "print(f\"AUC: {random_scores_rf[0]:.4f}, Precision: {random_scores_rf[1]:.4f}, Recall: {random_scores_rf[2]:.4f}, F1: {random_scores_rf[3]:.4f}, MCC: {random_scores[4]:.4f}\")"
   ]
  },
  {
   "cell_type": "markdown",
   "id": "6563c659",
   "metadata": {},
   "source": [
    "# Tuning"
   ]
  },
  {
   "cell_type": "code",
   "execution_count": 35,
   "id": "2e0a9e66",
   "metadata": {},
   "outputs": [],
   "source": [
    "import pandas as pd\n",
    "import numpy as np\n",
    "from sklearn.model_selection import GridSearchCV, StratifiedKFold\n",
    "from sklearn.linear_model import LogisticRegression\n",
    "from sklearn.metrics import roc_auc_score, precision_score, recall_score, f1_score, make_scorer, matthews_corrcoef\n",
    "from sklearn.preprocessing import StandardScaler\n",
    "from sklearn.pipeline import Pipeline"
   ]
  },
  {
   "cell_type": "markdown",
   "id": "eb1dba53",
   "metadata": {},
   "source": [
    "### LR tuning"
   ]
  },
  {
   "cell_type": "code",
   "execution_count": 36,
   "id": "0ee0488b",
   "metadata": {},
   "outputs": [],
   "source": [
    "scorers = {\n",
    "    'auc_score': make_scorer(roc_auc_score, needs_proba=True, multi_class='ovr'),\n",
    "    'precision_score': make_scorer(precision_score, average='weighted'),\n",
    "    'recall_score': make_scorer(recall_score, average='weighted'),\n",
    "    'f1_score': make_scorer(f1_score, average='weighted'),\n",
    "    'matthews_corrcoef': make_scorer(matthews_corrcoef)\n",
    "}\n",
    "\n",
    "param_grid = {\n",
    "    'logisticregression__C': [0.01, 0.1, 1, 10, 100],\n",
    "    'logisticregression__penalty': ['l1', 'l2']\n",
    "}\n",
    "\n",
    "pipeline = Pipeline([\n",
    "    ('scaler', StandardScaler()),\n",
    "    ('logisticregression', LogisticRegression(random_state=42, solver='saga', max_iter=10000))\n",
    "])\n",
    "\n",
    "cv = StratifiedKFold(n_splits=4, shuffle=True, random_state=42)"
   ]
  },
  {
   "cell_type": "code",
   "execution_count": 38,
   "id": "76f86122",
   "metadata": {},
   "outputs": [
    {
     "name": "stdout",
     "output_type": "stream",
     "text": [
      "Best parameters: {'logisticregression__C': 0.01, 'logisticregression__penalty': 'l2'}\n",
      "Best AUC: 0.8279420373569755\n",
      "Best parameters: {'logisticregression__C': 0.1, 'logisticregression__penalty': 'l2'}\n",
      "Best AUC: 0.7796468594254607\n",
      "Balanced Dataset Tuned Metrics: (0.8291271313152305, 0.8507827033760527, 0.8793125, 0.8477917383814448, 0.25726828392368173)\n",
      "Random Dataset Tuned Metrics: (0.7796557747988291, 0.8258755788416278, 0.8658125, 0.8147142526763588, 0.1358186242032341)\n"
     ]
    }
   ],
   "source": [
    "def perform_grid_search(df, target_column):\n",
    "    X = df.drop(target_column, axis=1)\n",
    "    y = df[target_column]\n",
    "\n",
    "    mcc_scorer = make_scorer(matthews_corrcoef)\n",
    "    grid_search = GridSearchCV(pipeline, param_grid, cv=cv, scoring=scorers, refit='auc_score', return_train_score=False)\n",
    "    grid_search.fit(X, y)\n",
    "\n",
    "    print(\"Best parameters:\", grid_search.best_params_)\n",
    "    print(\"Best AUC:\", grid_search.best_score_)\n",
    "\n",
    "    best_model = grid_search.best_estimator_\n",
    "    y_pred = best_model.predict(X)\n",
    "    y_pred_proba = best_model.predict_proba(X)[:, 1]\n",
    "\n",
    "    auc = roc_auc_score(y, y_pred_proba, average='weighted')\n",
    "    precision = precision_score(y, y_pred, average='weighted')\n",
    "    recall = recall_score(y, y_pred, average='weighted')\n",
    "    f1 = f1_score(y, y_pred, average='weighted')\n",
    "    \n",
    "    mcc = matthews_corrcoef(y, y_pred)\n",
    "\n",
    "\n",
    "    return auc, precision, recall, f1, mcc\n",
    "\n",
    "metrics_balanced_tuned = perform_grid_search(balanced, 'Diabetes_012')\n",
    "metrics_random_tuned = perform_grid_search(random, 'Diabetes_012')\n",
    "\n",
    "print(\"Balanced Dataset Tuned Metrics:\", metrics_balanced_tuned)\n",
    "print(\"Random Dataset Tuned Metrics:\", metrics_random_tuned)"
   ]
  },
  {
   "cell_type": "markdown",
   "id": "4eea3b56",
   "metadata": {},
   "source": [
    "### RF tuning"
   ]
  },
  {
   "cell_type": "code",
   "execution_count": 39,
   "id": "1b05c6a6",
   "metadata": {},
   "outputs": [],
   "source": [
    "from sklearn.ensemble import RandomForestClassifier\n",
    "from sklearn.model_selection import RandomizedSearchCV, StratifiedKFold"
   ]
  },
  {
   "cell_type": "code",
   "execution_count": 40,
   "id": "b80dadb8",
   "metadata": {},
   "outputs": [],
   "source": [
    "scorers = {\n",
    "    'auc_score': make_scorer(roc_auc_score, needs_proba=True, multi_class='ovr'),\n",
    "    'precision_score': make_scorer(precision_score, average='weighted'),\n",
    "    'recall_score': make_scorer(recall_score, average='weighted'),\n",
    "    'f1_score': make_scorer(f1_score, average='weighted'),\n",
    "    'matthews_corrcoef': make_scorer(matthews_corrcoef)\n",
    "}\n",
    "\n",
    "param_dist = {\n",
    "    'n_estimators': [100, 200, 300, 400, 500],\n",
    "    'max_depth': [None, 10, 20, 30, 40, 50],\n",
    "    'min_samples_split': [2, 5, 10],\n",
    "    'min_samples_leaf': [1, 2, 4]\n",
    "}\n",
    "\n",
    "cv = StratifiedKFold(n_splits=4, shuffle=True, random_state=42)"
   ]
  },
  {
   "cell_type": "code",
   "execution_count": 42,
   "id": "d7435350",
   "metadata": {},
   "outputs": [
    {
     "name": "stdout",
     "output_type": "stream",
     "text": [
      "Best parameters: {'n_estimators': 500, 'min_samples_split': 2, 'min_samples_leaf': 4, 'max_depth': 10}\n",
      "Best AUC: 0.8210573665917666\n",
      "Best parameters: {'n_estimators': 500, 'min_samples_split': 2, 'min_samples_leaf': 4, 'max_depth': 10}\n",
      "Best AUC: 0.7685776847439822\n",
      "Balanced Dataset Tuned Metrics: (0.8889529352406798, 0.8839376167119211, 0.895125, 0.870004441563413, 0.3923057655244977)\n",
      "Random Dataset Tuned Metrics: (0.8277332567683628, 0.8538648046780979, 0.8725625, 0.828028659636676, 0.23136116116593491)\n"
     ]
    }
   ],
   "source": [
    "def perform_random_search(df, target_column):\n",
    "    X = df.drop(target_column, axis=1)\n",
    "    y = df[target_column]\n",
    "\n",
    "    rf_classifier = RandomForestClassifier(random_state=42)\n",
    "\n",
    "    mcc_scorer = make_scorer(matthews_corrcoef)\n",
    "    random_search = RandomizedSearchCV(rf_classifier, param_distributions=param_dist, n_iter=10, cv=cv, scoring=scorers, refit='auc_score', random_state=42)\n",
    "    random_search.fit(X, y)\n",
    "\n",
    "    print(\"Best parameters:\", random_search.best_params_)\n",
    "    print(\"Best AUC:\", random_search.best_score_)\n",
    "\n",
    "    best_model = random_search.best_estimator_\n",
    "    y_pred = best_model.predict(X)\n",
    "    y_pred_proba = best_model.predict_proba(X)[:, 1]\n",
    "\n",
    "    auc = roc_auc_score(y, y_pred_proba)\n",
    "    precision = precision_score(y, y_pred, average='weighted')\n",
    "    recall = recall_score(y, y_pred, average='weighted')\n",
    "    f1 = f1_score(y, y_pred, average='weighted')\n",
    "    mcc = matthews_corrcoef(y, y_pred)\n",
    "\n",
    "\n",
    "    return auc, precision, recall, f1, mcc\n",
    "\n",
    "metrics_balanced_tuned = perform_random_search(balanced, 'Diabetes_012')\n",
    "metrics_random_tuned = perform_random_search(random, 'Diabetes_012')\n",
    "\n",
    "print(\"Balanced Dataset Tuned Metrics:\", metrics_balanced_tuned)\n",
    "print(\"Random Dataset Tuned Metrics:\", metrics_random_tuned)"
   ]
  },
  {
   "cell_type": "code",
   "execution_count": null,
   "id": "60257a27",
   "metadata": {},
   "outputs": [],
   "source": []
  }
 ],
 "metadata": {
  "kernelspec": {
   "display_name": "Python 3 (ipykernel)",
   "language": "python",
   "name": "python3"
  },
  "language_info": {
   "codemirror_mode": {
    "name": "ipython",
    "version": 3
   },
   "file_extension": ".py",
   "mimetype": "text/x-python",
   "name": "python",
   "nbconvert_exporter": "python",
   "pygments_lexer": "ipython3",
   "version": "3.9.13"
  }
 },
 "nbformat": 4,
 "nbformat_minor": 5
}
