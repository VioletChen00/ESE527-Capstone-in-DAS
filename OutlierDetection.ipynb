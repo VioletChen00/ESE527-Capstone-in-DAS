{
 "cells": [
  {
   "cell_type": "code",
   "execution_count": 6,
   "id": "df27f167",
   "metadata": {},
   "outputs": [
    {
     "data": {
      "text/html": [
       "<div>\n",
       "<style scoped>\n",
       "    .dataframe tbody tr th:only-of-type {\n",
       "        vertical-align: middle;\n",
       "    }\n",
       "\n",
       "    .dataframe tbody tr th {\n",
       "        vertical-align: top;\n",
       "    }\n",
       "\n",
       "    .dataframe thead th {\n",
       "        text-align: right;\n",
       "    }\n",
       "</style>\n",
       "<table border=\"1\" class=\"dataframe\">\n",
       "  <thead>\n",
       "    <tr style=\"text-align: right;\">\n",
       "      <th></th>\n",
       "      <th>GenHlth</th>\n",
       "      <th>HighBP</th>\n",
       "      <th>Age</th>\n",
       "      <th>HighChol</th>\n",
       "      <th>DiffWalk</th>\n",
       "      <th>Income</th>\n",
       "      <th>HeartDiseaseorAttack</th>\n",
       "      <th>Membership</th>\n",
       "      <th>Diabetes_012</th>\n",
       "      <th>BMI</th>\n",
       "      <th>PhysHlth</th>\n",
       "    </tr>\n",
       "  </thead>\n",
       "  <tbody>\n",
       "    <tr>\n",
       "      <th>0</th>\n",
       "      <td>1</td>\n",
       "      <td>0</td>\n",
       "      <td>3</td>\n",
       "      <td>0</td>\n",
       "      <td>0</td>\n",
       "      <td>5</td>\n",
       "      <td>0</td>\n",
       "      <td>0</td>\n",
       "      <td>0</td>\n",
       "      <td>26</td>\n",
       "      <td>0</td>\n",
       "    </tr>\n",
       "    <tr>\n",
       "      <th>1</th>\n",
       "      <td>1</td>\n",
       "      <td>0</td>\n",
       "      <td>3</td>\n",
       "      <td>0</td>\n",
       "      <td>0</td>\n",
       "      <td>5</td>\n",
       "      <td>0</td>\n",
       "      <td>0</td>\n",
       "      <td>0</td>\n",
       "      <td>26</td>\n",
       "      <td>0</td>\n",
       "    </tr>\n",
       "    <tr>\n",
       "      <th>2</th>\n",
       "      <td>1</td>\n",
       "      <td>0</td>\n",
       "      <td>3</td>\n",
       "      <td>0</td>\n",
       "      <td>0</td>\n",
       "      <td>5</td>\n",
       "      <td>0</td>\n",
       "      <td>0</td>\n",
       "      <td>0</td>\n",
       "      <td>23</td>\n",
       "      <td>15</td>\n",
       "    </tr>\n",
       "    <tr>\n",
       "      <th>3</th>\n",
       "      <td>1</td>\n",
       "      <td>0</td>\n",
       "      <td>3</td>\n",
       "      <td>0</td>\n",
       "      <td>0</td>\n",
       "      <td>5</td>\n",
       "      <td>0</td>\n",
       "      <td>0</td>\n",
       "      <td>0</td>\n",
       "      <td>30</td>\n",
       "      <td>0</td>\n",
       "    </tr>\n",
       "    <tr>\n",
       "      <th>4</th>\n",
       "      <td>1</td>\n",
       "      <td>0</td>\n",
       "      <td>3</td>\n",
       "      <td>0</td>\n",
       "      <td>0</td>\n",
       "      <td>5</td>\n",
       "      <td>0</td>\n",
       "      <td>0</td>\n",
       "      <td>0</td>\n",
       "      <td>19</td>\n",
       "      <td>0</td>\n",
       "    </tr>\n",
       "    <tr>\n",
       "      <th>...</th>\n",
       "      <td>...</td>\n",
       "      <td>...</td>\n",
       "      <td>...</td>\n",
       "      <td>...</td>\n",
       "      <td>...</td>\n",
       "      <td>...</td>\n",
       "      <td>...</td>\n",
       "      <td>...</td>\n",
       "      <td>...</td>\n",
       "      <td>...</td>\n",
       "      <td>...</td>\n",
       "    </tr>\n",
       "    <tr>\n",
       "      <th>15995</th>\n",
       "      <td>4</td>\n",
       "      <td>1</td>\n",
       "      <td>4</td>\n",
       "      <td>1</td>\n",
       "      <td>1</td>\n",
       "      <td>1</td>\n",
       "      <td>1</td>\n",
       "      <td>16</td>\n",
       "      <td>0</td>\n",
       "      <td>37</td>\n",
       "      <td>28</td>\n",
       "    </tr>\n",
       "    <tr>\n",
       "      <th>15996</th>\n",
       "      <td>4</td>\n",
       "      <td>1</td>\n",
       "      <td>4</td>\n",
       "      <td>1</td>\n",
       "      <td>0</td>\n",
       "      <td>5</td>\n",
       "      <td>0</td>\n",
       "      <td>16</td>\n",
       "      <td>0</td>\n",
       "      <td>34</td>\n",
       "      <td>0</td>\n",
       "    </tr>\n",
       "    <tr>\n",
       "      <th>15997</th>\n",
       "      <td>3</td>\n",
       "      <td>1</td>\n",
       "      <td>4</td>\n",
       "      <td>1</td>\n",
       "      <td>1</td>\n",
       "      <td>2</td>\n",
       "      <td>1</td>\n",
       "      <td>16</td>\n",
       "      <td>0</td>\n",
       "      <td>20</td>\n",
       "      <td>0</td>\n",
       "    </tr>\n",
       "    <tr>\n",
       "      <th>15998</th>\n",
       "      <td>3</td>\n",
       "      <td>1</td>\n",
       "      <td>4</td>\n",
       "      <td>1</td>\n",
       "      <td>1</td>\n",
       "      <td>1</td>\n",
       "      <td>0</td>\n",
       "      <td>16</td>\n",
       "      <td>1</td>\n",
       "      <td>34</td>\n",
       "      <td>0</td>\n",
       "    </tr>\n",
       "    <tr>\n",
       "      <th>15999</th>\n",
       "      <td>5</td>\n",
       "      <td>1</td>\n",
       "      <td>4</td>\n",
       "      <td>1</td>\n",
       "      <td>1</td>\n",
       "      <td>2</td>\n",
       "      <td>1</td>\n",
       "      <td>16</td>\n",
       "      <td>0</td>\n",
       "      <td>25</td>\n",
       "      <td>30</td>\n",
       "    </tr>\n",
       "  </tbody>\n",
       "</table>\n",
       "<p>16000 rows × 11 columns</p>\n",
       "</div>"
      ],
      "text/plain": [
       "       GenHlth  HighBP  Age  HighChol  DiffWalk  Income  HeartDiseaseorAttack   \n",
       "0            1       0    3         0         0       5                     0  \\\n",
       "1            1       0    3         0         0       5                     0   \n",
       "2            1       0    3         0         0       5                     0   \n",
       "3            1       0    3         0         0       5                     0   \n",
       "4            1       0    3         0         0       5                     0   \n",
       "...        ...     ...  ...       ...       ...     ...                   ...   \n",
       "15995        4       1    4         1         1       1                     1   \n",
       "15996        4       1    4         1         0       5                     0   \n",
       "15997        3       1    4         1         1       2                     1   \n",
       "15998        3       1    4         1         1       1                     0   \n",
       "15999        5       1    4         1         1       2                     1   \n",
       "\n",
       "       Membership  Diabetes_012  BMI  PhysHlth  \n",
       "0               0             0   26         0  \n",
       "1               0             0   26         0  \n",
       "2               0             0   23        15  \n",
       "3               0             0   30         0  \n",
       "4               0             0   19         0  \n",
       "...           ...           ...  ...       ...  \n",
       "15995          16             0   37        28  \n",
       "15996          16             0   34         0  \n",
       "15997          16             0   20         0  \n",
       "15998          16             1   34         0  \n",
       "15999          16             0   25        30  \n",
       "\n",
       "[16000 rows x 11 columns]"
      ]
     },
     "execution_count": 6,
     "metadata": {},
     "output_type": "execute_result"
    }
   ],
   "source": [
    "import pandas as pd\n",
    "df = pd.read_csv(\"balanced.csv\")\n",
    "df"
   ]
  },
  {
   "cell_type": "code",
   "execution_count": 9,
   "id": "1ac58418",
   "metadata": {},
   "outputs": [
    {
     "data": {
      "text/plain": [
       "Index(['GenHlth', 'HighBP', 'Age', 'HighChol', 'DiffWalk', 'Income',\n",
       "       'HeartDiseaseorAttack', 'Membership', 'Diabetes_012', 'BMI',\n",
       "       'PhysHlth'],\n",
       "      dtype='object')"
      ]
     },
     "execution_count": 9,
     "metadata": {},
     "output_type": "execute_result"
    }
   ],
   "source": [
    "df.columns"
   ]
  },
  {
   "cell_type": "code",
   "execution_count": 10,
   "id": "5068c012",
   "metadata": {},
   "outputs": [],
   "source": [
    "# Seperate predictor and response\n",
    "X = df[['HighBP', 'HighChol', 'DiffWalk', 'HeartDiseaseorAttack', 'BMI', 'PhysHlth', 'GenHlth', 'Age', 'Income', 'Membership']]\n",
    "y = df['Diabetes_012'].astype(int)"
   ]
  },
  {
   "cell_type": "code",
   "execution_count": 11,
   "id": "daefcb73",
   "metadata": {},
   "outputs": [
    {
     "name": "stdout",
     "output_type": "stream",
     "text": [
      "Number of outliers removed: 2129\n"
     ]
    }
   ],
   "source": [
    "################ Unsupervised outlier detection: Interquartile Range (IQR) ####################\n",
    "\n",
    "def remove_outliers_IQR(group):\n",
    "    # For BMI\n",
    "    Q1_BMI = group['BMI'].quantile(0.25)\n",
    "    Q3_BMI = group['BMI'].quantile(0.75)\n",
    "    IQR_BMI = Q3_BMI - Q1_BMI\n",
    "    lower_bound_BMI = Q1_BMI - 1.5 * IQR_BMI\n",
    "    upper_bound_BMI = Q3_BMI + 1.5 * IQR_BMI\n",
    "    \n",
    "    # For PhysHlth\n",
    "    Q1_PhysHlth = group['PhysHlth'].quantile(0.25)\n",
    "    Q3_PhysHlth = group['PhysHlth'].quantile(0.75)\n",
    "    IQR_PhysHlth = Q3_PhysHlth - Q1_PhysHlth\n",
    "    lower_bound_PhysHlth = Q1_PhysHlth - 1.5 * IQR_PhysHlth\n",
    "    upper_bound_PhysHlth = Q3_PhysHlth + 1.5 * IQR_PhysHlth\n",
    "\n",
    "    # Filter the group\n",
    "    return group[(group['BMI'] >= lower_bound_BMI) & (group['BMI'] <= upper_bound_BMI) &\n",
    "                 (group['PhysHlth'] >= lower_bound_PhysHlth) & (group['PhysHlth'] <= upper_bound_PhysHlth)]\n",
    "\n",
    "# Apply the function to each group and concatenate the results\n",
    "cleaned_X = X.groupby('Membership').apply(remove_outliers_IQR).reset_index(drop=True)\n",
    "\n",
    "original_count = X.shape[0]\n",
    "cleaned_count = cleaned_X.shape[0]\n",
    "outliers_count = original_count - cleaned_count\n",
    "print(f\"Number of outliers removed: {outliers_count}\")"
   ]
  },
  {
   "cell_type": "code",
   "execution_count": 2,
   "id": "072ee4cc",
   "metadata": {},
   "outputs": [
    {
     "data": {
      "text/plain": [
       "Index(['GenHlth', 'HighBP', 'Age', 'HighChol', 'DiffWalk', 'Income',\n",
       "       'HeartDiseaseorAttack', 'Diabetes_012', 'BMI', 'PhysHlth'],\n",
       "      dtype='object')"
      ]
     },
     "execution_count": 2,
     "metadata": {},
     "output_type": "execute_result"
    }
   ],
   "source": [
    "# Drop the 'Membership' column\n",
    "df = df.drop(columns=['Membership'])\n",
    "df.columns"
   ]
  },
  {
   "cell_type": "code",
   "execution_count": 3,
   "id": "43731ee5",
   "metadata": {},
   "outputs": [],
   "source": [
    "# Seperate predictor and response\n",
    "X = df[['HighBP', 'HighChol', 'DiffWalk', 'HeartDiseaseorAttack', 'BMI', 'PhysHlth', 'GenHlth', 'Age', 'Income']]\n",
    "y = df['Diabetes_012'].astype(int)"
   ]
  },
  {
   "cell_type": "code",
   "execution_count": 10,
   "id": "aecad023",
   "metadata": {},
   "outputs": [
    {
     "name": "stdout",
     "output_type": "stream",
     "text": [
      "       Outlier\n",
      "0            1\n",
      "1            1\n",
      "2           -1\n",
      "3            1\n",
      "4           -1\n",
      "...        ...\n",
      "15995       -1\n",
      "15996       -1\n",
      "15997       -1\n",
      "15998       -1\n",
      "15999       -1\n",
      "\n",
      "[16000 rows x 1 columns]\n"
     ]
    }
   ],
   "source": [
    "################ Unsupervised outlier detection: OneClassSVM ####################\n",
    "\n",
    "from sklearn.svm import OneClassSVM\n",
    "from sklearn.preprocessing import StandardScaler, OneHotEncoder\n",
    "from sklearn.compose import ColumnTransformer\n",
    "from sklearn.pipeline import Pipeline\n",
    "\n",
    "# categorical and numerical features\n",
    "categorical_features = ['GenHlth', 'HighBP', 'Age', 'HighChol', 'DiffWalk', 'Income','HeartDiseaseorAttack']\n",
    "numerical_features = ['BMI','PhysHlth']\n",
    "\n",
    "# preprocessing\n",
    "preprocessor = ColumnTransformer(\n",
    "    transformers=[\n",
    "        ('num', StandardScaler(), numerical_features),\n",
    "        ('cat', OneHotEncoder(), categorical_features)\n",
    "    ])\n",
    "\n",
    "# pipeline: preprocessing & modeling\n",
    "model = Pipeline(steps=[\n",
    "    ('preprocessor', preprocessor),\n",
    "    ('clf', OneClassSVM(kernel='rbf', gamma='auto'))\n",
    "])\n",
    "\n",
    "# fit\n",
    "model.fit(X)\n",
    "\n",
    "# predict outliers\n",
    "outliers = model.predict(X)\n",
    "\n",
    "# results\n",
    "outlier_results = pd.DataFrame({'Outlier': outliers}, index=X.index)\n",
    "print(outlier_results)"
   ]
  },
  {
   "cell_type": "code",
   "execution_count": 11,
   "id": "2c591b27",
   "metadata": {},
   "outputs": [
    {
     "data": {
      "text/plain": [
       "Outlier\n",
       " 1         8003\n",
       "-1         7997\n",
       "Name: count, dtype: int64"
      ]
     },
     "execution_count": 11,
     "metadata": {},
     "output_type": "execute_result"
    }
   ],
   "source": [
    "# count outlier (-1): no way, half of the data aree outliers -- One class SVM is not very good for this dataset\n",
    "outlier_results.value_counts()"
   ]
  },
  {
   "cell_type": "code",
   "execution_count": 17,
   "id": "70fbab1d",
   "metadata": {},
   "outputs": [
    {
     "name": "stdout",
     "output_type": "stream",
     "text": [
      "Outlier indices:\n",
      "Index([   26,   162,   221,   443,   537,   742,   843,  1007,  1086,  1108,\n",
      "       ...\n",
      "       15955, 15958, 15961, 15964, 15968, 15971, 15978, 15979, 15989, 15990],\n",
      "      dtype='int64', length=2953)\n"
     ]
    }
   ],
   "source": [
    "################ Unsupervised outlier detection: DBScan ####################\n",
    "\n",
    "from sklearn.preprocessing import StandardScaler, OneHotEncoder\n",
    "from sklearn.compose import ColumnTransformer\n",
    "from sklearn.cluster import DBSCAN\n",
    "\n",
    "# categorical and numerical features\n",
    "categorical_features = ['GenHlth', 'HighBP', 'Age', 'HighChol', 'DiffWalk', 'Income', 'HeartDiseaseorAttack']\n",
    "numerical_features = ['BMI', 'PhysHlth']\n",
    "\n",
    "# preprocessing\n",
    "preprocessor = ColumnTransformer(\n",
    "    transformers=[\n",
    "        ('num', StandardScaler(), numerical_features),\n",
    "        ('cat', OneHotEncoder(), categorical_features)\n",
    "    ])\n",
    "X_processed = preprocessor.fit_transform(X)\n",
    "\n",
    "# DBSCAN model\n",
    "dbscan = DBSCAN(eps=1, min_samples=5, metric='euclidean')\n",
    "\n",
    "# fit and predict clusters\n",
    "clusters = dbscan.fit_predict(X_processed)\n",
    "\n",
    "# find outlier indices (outliers labeled as -1)\n",
    "outlier_indices = pd.Series(clusters == -1, index=X.index)\n",
    "\n",
    "# results\n",
    "print(\"Outlier indices:\")\n",
    "print(outlier_indices[outlier_indices].index)"
   ]
  },
  {
   "cell_type": "code",
   "execution_count": 19,
   "id": "b5ffa5fa",
   "metadata": {},
   "outputs": [
    {
     "data": {
      "text/plain": [
       "2953"
      ]
     },
     "execution_count": 19,
     "metadata": {},
     "output_type": "execute_result"
    }
   ],
   "source": [
    "# count outlier (-1): 2953 are outliers -- DBScan is not very good for this dataset\n",
    "outlier_indices.sum()"
   ]
  },
  {
   "cell_type": "code",
   "execution_count": 4,
   "id": "3fac40af",
   "metadata": {},
   "outputs": [
    {
     "name": "stdout",
     "output_type": "stream",
     "text": [
      "Number of outliers detected: 6831\n"
     ]
    }
   ],
   "source": [
    "################ Unsupervised outlier detection: Isolation Forest ####################\n",
    "\n",
    "from sklearn.ensemble import IsolationForest\n",
    "from sklearn.preprocessing import StandardScaler, OneHotEncoder\n",
    "from sklearn.compose import ColumnTransformer\n",
    "from sklearn.pipeline import Pipeline\n",
    "\n",
    "# categorical and numerical features\n",
    "categorical_features = ['GenHlth', 'HighBP', 'Age', 'HighChol', 'DiffWalk', 'Income', 'HeartDiseaseorAttack']\n",
    "numerical_features = ['BMI', 'PhysHlth']\n",
    "\n",
    "# preprocessing\n",
    "preprocessor = ColumnTransformer(\n",
    "    transformers=[\n",
    "        ('num', StandardScaler(), numerical_features),\n",
    "        ('cat', OneHotEncoder(), categorical_features)\n",
    "    ])\n",
    "\n",
    "# pipeline: preprocessing & modeling\n",
    "pipeline = Pipeline(steps=[\n",
    "    ('preprocessor', preprocessor),\n",
    "    ('model', IsolationForest(n_estimators=100, random_state=42, contamination='auto'))\n",
    "])\n",
    "\n",
    "# fit\n",
    "pipeline.fit(X)\n",
    "\n",
    "# predict outliers\n",
    "outliers = pipeline.predict(X)\n",
    "outlier_predictions = pd.DataFrame(outliers, index=X.index, columns=['Outlier'])\n",
    "\n",
    "# Count the outliers\n",
    "outlier_count = (outlier_predictions['Outlier'] == -1).sum()\n",
    "print(f\"Number of outliers detected: {outlier_count}\")\n",
    "\n",
    "# Merge with original data for better analysis (optional)\n",
    "#detailed_results = pd.concat([X, outlier_predictions], axis=1)\n",
    "#print(detailed_results)"
   ]
  },
  {
   "cell_type": "code",
   "execution_count": null,
   "id": "dc5f8a9e",
   "metadata": {},
   "outputs": [],
   "source": []
  }
 ],
 "metadata": {
  "kernelspec": {
   "display_name": "Python 3 (ipykernel)",
   "language": "python",
   "name": "python3"
  },
  "language_info": {
   "codemirror_mode": {
    "name": "ipython",
    "version": 3
   },
   "file_extension": ".py",
   "mimetype": "text/x-python",
   "name": "python",
   "nbconvert_exporter": "python",
   "pygments_lexer": "ipython3",
   "version": "3.9.13"
  }
 },
 "nbformat": 4,
 "nbformat_minor": 5
}
