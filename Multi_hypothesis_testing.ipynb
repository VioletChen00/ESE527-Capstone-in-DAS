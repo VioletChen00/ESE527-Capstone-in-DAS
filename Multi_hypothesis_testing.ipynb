{
 "cells": [
  {
   "cell_type": "code",
   "execution_count": 4,
   "id": "93c55cb3",
   "metadata": {},
   "outputs": [
    {
     "name": "stdout",
     "output_type": "stream",
     "text": [
      "   GenHlth  HighBP  Age  HighChol  DiffWalk  Income  HeartDiseaseorAttack  \\\n",
      "0        5       1    4         1         1       2                     0   \n",
      "1        3       0    3         0         0       1                     0   \n",
      "2        5       1    4         1         1       5                     0   \n",
      "3        2       1    5         0         0       3                     0   \n",
      "4        2       1    5         1         0       2                     0   \n",
      "\n",
      "   Membership  Diabetes_012   BMI  PhysHlth  \n",
      "0          41           0.0  40.0      15.0  \n",
      "1          20           0.0  25.0       0.0  \n",
      "2           5           0.0  28.0      30.0  \n",
      "3          17           0.0  27.0       0.0  \n",
      "4          26           0.0  24.0       0.0  \n",
      "0.0    213703\n",
      "2.0     35346\n",
      "1.0      4631\n",
      "Name: Diabetes_012, dtype: int64\n"
     ]
    }
   ],
   "source": [
    "import pandas as pd\n",
    "import numpy as np\n",
    "from scipy.stats import f_oneway\n",
    "\n",
    "# Load the data\n",
    "data = pd.read_csv('/Users/apple/Desktop/Project/Reprocessing/data_with_cluster_info.csv')\n",
    "\n",
    "print(data.head())\n",
    "print(data['Diabetes_012'].value_counts())"
   ]
  },
  {
   "cell_type": "code",
   "execution_count": 5,
   "id": "27980545",
   "metadata": {},
   "outputs": [
    {
     "name": "stderr",
     "output_type": "stream",
     "text": [
      "/Users/apple/opt/anaconda3/lib/python3.9/site-packages/scipy/stats/_stats_py.py:3903: ConstantInputWarning: Each of the input arrays is constant;the F statistic is not defined or infinite\n",
      "  warnings.warn(stats.ConstantInputWarning(msg))\n"
     ]
    }
   ],
   "source": [
    "# Identify numerical features\n",
    "numerical_features = data.select_dtypes(include=[np.number]).columns.tolist()\n",
    "p_values = []\n",
    "features = []\n",
    "\n",
    "# Perform ANOVA for each numerical feature\n",
    "for feature in numerical_features:\n",
    "    # Prepare the data for each category\n",
    "    group0 = data[data['Diabetes_012'] == 0][feature]\n",
    "    group1 = data[data['Diabetes_012'] == 1][feature]\n",
    "    group2 = data[data['Diabetes_012'] == 2][feature]\n",
    "    \n",
    "    # Perform ANOVA and collect p-values\n",
    "    f_stat, p = f_oneway(group0.dropna(), group1.dropna(), group2.dropna())\n",
    "    p_values.append(p)\n",
    "    features.append(feature)\n",
    "\n",
    "# Create a DataFrame to hold feature names and their corresponding p-values\n",
    "p_value_df = pd.DataFrame({\n",
    "    'Feature': features,\n",
    "    'P_value': p_values\n",
    "})"
   ]
  },
  {
   "cell_type": "code",
   "execution_count": 6,
   "id": "3d9e3fb7",
   "metadata": {},
   "outputs": [
    {
     "name": "stdout",
     "output_type": "stream",
     "text": [
      "                 Feature       P_value  Rank  Adjusted_P_value  Reject_H0\n",
      "0                GenHlth  0.000000e+00     1      0.000000e+00       True\n",
      "1                 HighBP  0.000000e+00     2      0.000000e+00       True\n",
      "2                    Age  0.000000e+00     3      0.000000e+00       True\n",
      "3               HighChol  0.000000e+00     4      0.000000e+00       True\n",
      "4               DiffWalk  0.000000e+00     5      0.000000e+00       True\n",
      "5                 Income  0.000000e+00     6      0.000000e+00       True\n",
      "6   HeartDiseaseorAttack  0.000000e+00     7      0.000000e+00       True\n",
      "8           Diabetes_012  0.000000e+00     8      0.000000e+00       True\n",
      "9                    BMI  0.000000e+00     9      0.000000e+00       True\n",
      "10              PhysHlth  0.000000e+00    10      0.000000e+00       True\n",
      "7             Membership  1.023434e-15    11      1.023434e-15       True\n"
     ]
    }
   ],
   "source": [
    "# Sort p-values\n",
    "p_value_df = p_value_df.sort_values(by='P_value')\n",
    "\n",
    "# Apply the Benjamini-Hochberg correction\n",
    "m = len(p_value_df)  # Total number of hypotheses\n",
    "p_value_df['Rank'] = range(1, m + 1)\n",
    "p_value_df['Adjusted_P_value'] = (p_value_df['P_value'] * m) / p_value_df['Rank']\n",
    "\n",
    "# Set an FDR threshold\n",
    "fdr_threshold = 0.05\n",
    "p_value_df['Reject_H0'] = p_value_df['Adjusted_P_value'] < fdr_threshold\n",
    "\n",
    "# View the results\n",
    "print(p_value_df)"
   ]
  },
  {
   "cell_type": "code",
   "execution_count": null,
   "id": "674cfe44",
   "metadata": {},
   "outputs": [],
   "source": []
  }
 ],
 "metadata": {
  "kernelspec": {
   "display_name": "Python 3 (ipykernel)",
   "language": "python",
   "name": "python3"
  },
  "language_info": {
   "codemirror_mode": {
    "name": "ipython",
    "version": 3
   },
   "file_extension": ".py",
   "mimetype": "text/x-python",
   "name": "python",
   "nbconvert_exporter": "python",
   "pygments_lexer": "ipython3",
   "version": "3.9.13"
  }
 },
 "nbformat": 4,
 "nbformat_minor": 5
}
